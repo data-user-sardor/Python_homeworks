{
 "cells": [
  {
   "cell_type": "code",
   "execution_count": 1,
   "id": "7f5afe35",
   "metadata": {},
   "outputs": [],
   "source": [
    "import pandas as pd\n",
    "import sqlite3"
   ]
  },
  {
   "cell_type": "code",
   "execution_count": 2,
   "id": "24754d40",
   "metadata": {},
   "outputs": [],
   "source": [
    "conn = sqlite3.connect(\"chinook.db\")"
   ]
  },
  {
   "cell_type": "code",
   "execution_count": null,
   "id": "4b7cbe07",
   "metadata": {},
   "outputs": [
    {
     "name": "stdout",
     "output_type": "stream",
     "text": [
      "    CustomerId FirstName    LastName  TotalSpent\n",
      "5            6    Helena        Holý       49.62\n",
      "25          26   Richard  Cunningham       47.62\n",
      "56          57      Luis       Rojas       46.62\n",
      "44          45  Ladislav      Kovács       45.62\n",
      "45          46      Hugh    O'Reilly       45.62\n"
     ]
    }
   ],
   "source": [
    "# 1. Customer Purchases Analysis:\n",
    "# Read customers and invoices tables\n",
    "customers_df = pd.read_sql(\"SELECT CustomerId, FirstName, LastName FROM customers\", conn)\n",
    "invoices_df = pd.read_sql(\"SELECT CustomerId, Total FROM invoices\", conn)\n",
    "\n",
    "# Calculate total amount spent per customer\n",
    "customer_totals = invoices_df.groupby(\"CustomerId\")[\"Total\"].sum().reset_index()\n",
    "customer_totals = customer_totals.rename(columns={\"Total\": \"TotalSpent\"})\n",
    "\n",
    "# Merge with customer details\n",
    "customer_summary = pd.merge(customer_totals, customers_df, on=\"CustomerId\")\n",
    "\n",
    "# Get top 5 customers\n",
    "top_5_customers = customer_summary.sort_values(by=\"TotalSpent\", ascending=False).head(5)\n",
    "\n",
    "# Reorder columns\n",
    "top_5_customers = top_5_customers[[\"CustomerId\", \"FirstName\", \"LastName\", \"TotalSpent\"]]\n",
    "\n",
    "print(top_5_customers)"
   ]
  },
  {
   "cell_type": "code",
   "execution_count": null,
   "id": "7804c5de",
   "metadata": {},
   "outputs": [
    {
     "name": "stdout",
     "output_type": "stream",
     "text": [
      "          Preference  Percentage\n",
      "0  Individual Tracks    64.40678\n",
      "1        Full Albums    35.59322\n"
     ]
    }
   ],
   "source": [
    "# 2. Album vs. Individual Track Purchases:\n",
    "# Load necessary tables\n",
    "invoice_lines = pd.read_sql(\"SELECT InvoiceLineId, InvoiceId, TrackId FROM invoice_items\", conn)\n",
    "invoices = pd.read_sql(\"SELECT InvoiceId, CustomerId FROM invoices\", conn)\n",
    "tracks = pd.read_sql(\"SELECT TrackId, AlbumId FROM tracks\", conn)\n",
    "albums = pd.read_sql(\"SELECT AlbumId FROM albums\", conn)\n",
    "\n",
    "# Merge all tables to get: CustomerId, AlbumId, TrackId\n",
    "invoice_with_tracks = invoice_lines.merge(invoices, on=\"InvoiceId\")\n",
    "invoice_with_album = invoice_with_tracks.merge(tracks, on=\"TrackId\")\n",
    "\n",
    "# Count how many tracks exist per album\n",
    "album_track_counts = tracks.groupby(\"AlbumId\")[\"TrackId\"].count().reset_index()\n",
    "album_track_counts = album_track_counts.rename(columns={\"TrackId\": \"TotalAlbumTracks\"})\n",
    "\n",
    "# Count how many tracks each customer purchased per album\n",
    "customer_album_purchases = invoice_with_album.groupby([\"CustomerId\", \"AlbumId\"])[\"TrackId\"].count().reset_index()\n",
    "customer_album_purchases = customer_album_purchases.rename(columns={\"TrackId\": \"PurchasedTracks\"})\n",
    "\n",
    "# Merge to get total album tracks\n",
    "customer_album_purchases = customer_album_purchases.merge(album_track_counts, on=\"AlbumId\")\n",
    "\n",
    "# Determine if the customer bought the full album\n",
    "customer_album_purchases[\"FullAlbumPurchased\"] = customer_album_purchases[\"PurchasedTracks\"] == customer_album_purchases[\"TotalAlbumTracks\"]\n",
    "\n",
    "# Group by customer: if any full album purchase, they are album buyers\n",
    "customer_pref = customer_album_purchases.groupby(\"CustomerId\")[\"FullAlbumPurchased\"].any().reset_index()\n",
    "\n",
    "# Label preference\n",
    "customer_pref[\"Preference\"] = customer_pref[\"FullAlbumPurchased\"].apply(lambda x: \"Full Albums\" if x else \"Individual Tracks\")\n",
    "\n",
    "# Summary percentage\n",
    "summary = customer_pref[\"Preference\"].value_counts(normalize=True) * 100\n",
    "summary = summary.reset_index()\n",
    "summary.columns = [\"Preference\", \"Percentage\"]\n",
    "\n",
    "print(summary)"
   ]
  }
 ],
 "metadata": {
  "kernelspec": {
   "display_name": "Python 3",
   "language": "python",
   "name": "python3"
  },
  "language_info": {
   "codemirror_mode": {
    "name": "ipython",
    "version": 3
   },
   "file_extension": ".py",
   "mimetype": "text/x-python",
   "name": "python",
   "nbconvert_exporter": "python",
   "pygments_lexer": "ipython3",
   "version": "3.12.9"
  }
 },
 "nbformat": 4,
 "nbformat_minor": 5
}
