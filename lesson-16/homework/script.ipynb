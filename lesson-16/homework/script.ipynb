{
 "cells": [
  {
   "cell_type": "code",
   "execution_count": 3,
   "id": "7f5afe35",
   "metadata": {},
   "outputs": [],
   "source": [
    "import numpy as np"
   ]
  },
  {
   "cell_type": "code",
   "execution_count": null,
   "id": "2c3cf8b3",
   "metadata": {},
   "outputs": [
    {
     "name": "stdout",
     "output_type": "stream",
     "text": [
      "1. One-dimensional NumPy array: [ 12.23  13.32 100.    36.32]\n"
     ]
    }
   ],
   "source": [
    "# 1. Convert List to 1D Array\n",
    "original_list = [12.23, 13.32, 100, 36.32]\n",
    "array_1d = np.array(original_list)\n",
    "print(\"1. One-dimensional NumPy array:\", array_1d)"
   ]
  },
  {
   "cell_type": "code",
   "execution_count": 5,
   "id": "29b1ebc6",
   "metadata": {},
   "outputs": [
    {
     "name": "stdout",
     "output_type": "stream",
     "text": [
      "\n",
      "2. 3x3 matrix:\n",
      " [[ 2  3  4]\n",
      " [ 5  6  7]\n",
      " [ 8  9 10]]\n"
     ]
    }
   ],
   "source": [
    "# 2. Create 3x3 Matrix (2–10)\n",
    "matrix_3x3 = np.arange(2, 11).reshape(3, 3)\n",
    "print(\"\\n2. 3x3 matrix:\\n\", matrix_3x3)"
   ]
  },
  {
   "cell_type": "code",
   "execution_count": 7,
   "id": "5d8fcf54",
   "metadata": {},
   "outputs": [
    {
     "name": "stdout",
     "output_type": "stream",
     "text": [
      "\n",
      "3. Null vector: [0. 0. 0. 0. 0. 0. 0. 0. 0. 0.]\n",
      "Updated vector: [ 0.  0.  0.  0.  0.  0. 11.  0.  0.  0.]\n"
     ]
    }
   ],
   "source": [
    "# 3. Null Vector (10) & Update Sixth Value\n",
    "null_vector = np.zeros(10)\n",
    "print(\"\\n3. Null vector:\", null_vector)\n",
    "null_vector[6] = 11\n",
    "print(\"Updated vector:\", null_vector)"
   ]
  },
  {
   "cell_type": "code",
   "execution_count": 8,
   "id": "64fd7c30",
   "metadata": {},
   "outputs": [
    {
     "name": "stdout",
     "output_type": "stream",
     "text": [
      "\n",
      "4. Array from 12 to 38: [12 13 14 15 16 17 18 19 20 21 22 23 24 25 26 27 28 29 30 31 32 33 34 35\n",
      " 36 37]\n"
     ]
    }
   ],
   "source": [
    "\n",
    "# 4. Array from 12 to 38\n",
    "array_12_to_38 = np.arange(12, 38)\n",
    "print(\"\\n4. Array from 12 to 38:\", array_12_to_38)\n"
   ]
  },
  {
   "cell_type": "code",
   "execution_count": 9,
   "id": "af09fe41",
   "metadata": {},
   "outputs": [
    {
     "name": "stdout",
     "output_type": "stream",
     "text": [
      "\n",
      "5. Array as float type: [1. 2. 3. 4.]\n"
     ]
    }
   ],
   "source": [
    "\n",
    "# 5. Convert Array to Float Type\n",
    "int_array = np.array([1, 2, 3, 4])\n",
    "float_array = int_array.astype(float)\n",
    "print(\"\\n5. Array as float type:\", float_array)\n"
   ]
  },
  {
   "cell_type": "code",
   "execution_count": 10,
   "id": "5bdf106e",
   "metadata": {},
   "outputs": [
    {
     "name": "stdout",
     "output_type": "stream",
     "text": [
      "\n",
      "6. Values in Centigrade degrees: [-17.78 -11.11   7.34   1.11  37.73   0.  ]\n",
      "Values in Fahrenheit degrees: [-4.0000e-03  1.2002e+01  4.5212e+01  3.3998e+01  9.9914e+01  3.2000e+01]\n"
     ]
    }
   ],
   "source": [
    "\n",
    "# 6. Celsius to Fahrenheit Conversion\n",
    "celsius = np.array([-17.78, -11.11, 7.34, 1.11, 37.73, 0.])\n",
    "fahrenheit = celsius * 9/5 + 32\n",
    "print(\"\\n6. Values in Centigrade degrees:\", celsius)\n",
    "print(\"Values in Fahrenheit degrees:\", fahrenheit)\n"
   ]
  },
  {
   "cell_type": "code",
   "execution_count": 11,
   "id": "9a862163",
   "metadata": {},
   "outputs": [
    {
     "name": "stdout",
     "output_type": "stream",
     "text": [
      "\n",
      "7. After appending values: [10 20 30 40 50 60 70 80 90]\n"
     ]
    }
   ],
   "source": [
    "\n",
    "# 7. Append Values to Array\n",
    "original_array = np.array([10, 20, 30])\n",
    "appended_array = np.append(original_array, [40, 50, 60, 70, 80, 90])\n",
    "print(\"\\n7. After appending values:\", appended_array)\n"
   ]
  },
  {
   "cell_type": "code",
   "execution_count": 12,
   "id": "75a0c772",
   "metadata": {},
   "outputs": [
    {
     "name": "stdout",
     "output_type": "stream",
     "text": [
      "\n",
      "8. Random array: [0.13603039 0.20370215 0.89021893 0.01567453 0.52305889 0.08547197\n",
      " 0.92339763 0.1528542  0.95993963 0.49539715]\n",
      "Mean: 0.4385745480282298\n",
      "Median: 0.3495496536121141\n",
      "Standard Deviation: 0.353989266275197\n"
     ]
    }
   ],
   "source": [
    "\n",
    "# 8. Array Statistical Functions\n",
    "random_array = np.random.rand(10)\n",
    "mean_val = np.mean(random_array)\n",
    "median_val = np.median(random_array)\n",
    "std_dev = np.std(random_array)\n",
    "print(\"\\n8. Random array:\", random_array)\n",
    "print(\"Mean:\", mean_val)\n",
    "print(\"Median:\", median_val)\n",
    "print(\"Standard Deviation:\", std_dev)"
   ]
  },
  {
   "cell_type": "code",
   "execution_count": 13,
   "id": "684f319d",
   "metadata": {},
   "outputs": [
    {
     "name": "stdout",
     "output_type": "stream",
     "text": [
      "\n",
      "9. 10x10 array min: 0.01644929705937359\n",
      "10x10 array max: 0.9818134957142742\n"
     ]
    }
   ],
   "source": [
    "\n",
    "# 9. Find min and max in 10x10 array\n",
    "array_10x10 = np.random.rand(10, 10)\n",
    "min_val = np.min(array_10x10)\n",
    "max_val = np.max(array_10x10)\n",
    "print(\"\\n9. 10x10 array min:\", min_val)\n",
    "print(\"10x10 array max:\", max_val)\n"
   ]
  },
  {
   "cell_type": "code",
   "execution_count": 14,
   "id": "ce634f5c",
   "metadata": {},
   "outputs": [
    {
     "name": "stdout",
     "output_type": "stream",
     "text": [
      "\n",
      "10. 3x3x3 array:\n",
      " [[[0.67969796 0.47886872 0.71447439]\n",
      "  [0.88542229 0.70349463 0.71215947]\n",
      "  [0.86384898 0.73239587 0.27166961]]\n",
      "\n",
      " [[0.12318988 0.68513991 0.81766445]\n",
      "  [0.55664123 0.21118956 0.6825363 ]\n",
      "  [0.61479439 0.22343441 0.15850369]]\n",
      "\n",
      " [[0.13288798 0.00538559 0.07096306]\n",
      "  [0.48277445 0.89295556 0.84945871]\n",
      "  [0.12998408 0.07674532 0.92326279]]]\n"
     ]
    }
   ],
   "source": [
    "\n",
    "# 10. Create a 3x3x3 array with random values\n",
    "array_3x3x3 = np.random.rand(3, 3, 3)\n",
    "print(\"\\n10. 3x3x3 array:\\n\", array_3x3x3)"
   ]
  }
 ],
 "metadata": {
  "kernelspec": {
   "display_name": "Python 3",
   "language": "python",
   "name": "python3"
  },
  "language_info": {
   "codemirror_mode": {
    "name": "ipython",
    "version": 3
   },
   "file_extension": ".py",
   "mimetype": "text/x-python",
   "name": "python",
   "nbconvert_exporter": "python",
   "pygments_lexer": "ipython3",
   "version": "3.12.9"
  }
 },
 "nbformat": 4,
 "nbformat_minor": 5
}
